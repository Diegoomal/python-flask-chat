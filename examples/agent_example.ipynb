{
 "cells": [
  {
   "cell_type": "code",
   "execution_count": 1,
   "metadata": {},
   "outputs": [],
   "source": [
    "import sys\n",
    "sys.path.insert(0, '../src/core/')\n",
    "\n",
    "from llm import ILLM, LLMBuilder\n",
    "illm: ILLM = LLMBuilder(llm_type='ollama', model_name='llama3', temperature=0)"
   ]
  },
  {
   "cell_type": "code",
   "execution_count": 2,
   "metadata": {},
   "outputs": [
    {
     "name": "stderr",
     "output_type": "stream",
     "text": [
      "/home/diegoomal/miniconda3/envs/python-flask-chat-env/lib/python3.10/site-packages/langchain_core/_api/deprecation.py:119: LangChainDeprecationWarning: The function `initialize_agent` was deprecated in LangChain 0.1.0 and will be removed in 0.2.0. Use Use new agent constructor methods like create_react_agent, create_json_agent, create_structured_chat_agent, etc. instead.\n",
      "  warn_deprecated(\n",
      "/home/diegoomal/miniconda3/envs/python-flask-chat-env/lib/python3.10/site-packages/langchain_core/_api/deprecation.py:119: LangChainDeprecationWarning: The method `Chain.run` was deprecated in langchain 0.1.0 and will be removed in 0.2.0. Use invoke instead.\n",
      "  warn_deprecated(\n"
     ]
    },
    {
     "name": "stdout",
     "output_type": "stream",
     "text": [
      "\n",
      "\n",
      "\u001b[1m> Entering new AgentExecutor chain...\u001b[0m\n",
      "\u001b[32;1m\u001b[1;3mAction:\n",
      "{\n",
      "  \"action\": \"LLM\",\n",
      "  \"action_input\": {\"type\": \"string\"}\n",
      "}\n",
      "\n",
      "\u001b[0m\n",
      "\n",
      "\u001b[1m> Finished chain.\u001b[0m\n",
      "Agent Response: Action:\n",
      "{\n",
      "  \"action\": \"LLM\",\n",
      "  \"action_input\": {\"type\": \"string\"}\n",
      "}\n",
      "\n",
      "\n"
     ]
    }
   ],
   "source": [
    "import datetime\n",
    "\n",
    "from langchain.agents import Tool                                               # type: ignore\n",
    "from langchain.agents import OpenAIMultiFunctionsAgent                          # type: ignore\n",
    "from langchain.agents import initialize_agent, AgentType                        # type: ignore\n",
    "from langchain.prompts import MessagesPlaceholder                               # type: ignore\n",
    "from langchain.schema.messages import SystemMessage                             # type: ignore\n",
    "from langchain.chains.conversation.memory import ConversationBufferMemory       # type: ignore\n",
    "\n",
    "\n",
    "memory = ConversationBufferMemory(return_messages=True, k=10, memory_key=\"chat_history\")\n",
    "\n",
    "# Você pode criar a ferramenta para passar para um agente\n",
    "tools = [\n",
    "    Tool(name=\"LLM\", func=illm.get_instance().invoke, description=\"Performs language model-based operations\")\n",
    "]\n",
    "\n",
    "# Ajuste da mensagem do sistema\n",
    "prompt = OpenAIMultiFunctionsAgent.create_prompt(\n",
    "    system_message=SystemMessage(content=\"You are a helpful AI bot\"),\n",
    "    extra_prompt_messages=[MessagesPlaceholder(variable_name=\"chat_history\")],\n",
    ")\n",
    "\n",
    "# Inicializar o agente\n",
    "agent_executor = initialize_agent(\n",
    "    tools,\n",
    "    illm.get_instance(),\n",
    "    agent=AgentType.STRUCTURED_CHAT_ZERO_SHOT_REACT_DESCRIPTION,\n",
    "    verbose=True,\n",
    "    max_iterations=10,\n",
    "    memory=memory,\n",
    "    prompt=prompt,\n",
    ")\n",
    "\n",
    "# Exemplo de uso\n",
    "response = agent_executor.run({ \"chat_history\": [], \"input\": \"Ola, tudo bem?\" })\n",
    "\n",
    "print(\"Agent Response:\", response)\n"
   ]
  },
  {
   "cell_type": "code",
   "execution_count": 3,
   "metadata": {},
   "outputs": [
    {
     "name": "stdout",
     "output_type": "stream",
     "text": [
      "[HumanMessage(content='Ola, tudo bem?'), AIMessage(content='Action:\\n{\\n  \"action\": \"LLM\",\\n  \"action_input\": {\"type\": \"string\"}\\n}\\n\\n')]\n"
     ]
    }
   ],
   "source": [
    "print(memory.buffer)"
   ]
  },
  {
   "cell_type": "code",
   "execution_count": 4,
   "metadata": {},
   "outputs": [
    {
     "name": "stdout",
     "output_type": "stream",
     "text": [
      "input_variables=['agent_scratchpad', 'input'] messages=[SystemMessagePromptTemplate(prompt=PromptTemplate(input_variables=[], template='Respond to the human as helpfully and accurately as possible. You have access to the following tools:\\n\\nLLM: Performs language model-based operations, args: {{\\'tool_input\\': {{\\'type\\': \\'string\\'}}}}\\n\\nUse a json blob to specify a tool by providing an action key (tool name) and an action_input key (tool input).\\n\\nValid \"action\" values: \"Final Answer\" or LLM\\n\\nProvide only ONE action per $JSON_BLOB, as shown:\\n\\n```\\n{{\\n  \"action\": $TOOL_NAME,\\n  \"action_input\": $INPUT\\n}}\\n```\\n\\nFollow this format:\\n\\nQuestion: input question to answer\\nThought: consider previous and subsequent steps\\nAction:\\n```\\n$JSON_BLOB\\n```\\nObservation: action result\\n... (repeat Thought/Action/Observation N times)\\nThought: I know what to respond\\nAction:\\n```\\n{{\\n  \"action\": \"Final Answer\",\\n  \"action_input\": \"Final response to human\"\\n}}\\n```\\n\\nBegin! Reminder to ALWAYS respond with a valid json blob of a single action. Use tools if necessary. Respond directly if appropriate. Format is Action:```$JSON_BLOB```then Observation:.\\nThought:')), HumanMessagePromptTemplate(prompt=PromptTemplate(input_variables=['agent_scratchpad', 'input'], template='{input}\\n\\n{agent_scratchpad}'))]\n"
     ]
    }
   ],
   "source": [
    "print(agent_executor.agent.llm_chain.prompt)"
   ]
  }
 ],
 "metadata": {
  "kernelspec": {
   "display_name": "project-env",
   "language": "python",
   "name": "python3"
  },
  "language_info": {
   "codemirror_mode": {
    "name": "ipython",
    "version": 3
   },
   "file_extension": ".py",
   "mimetype": "text/x-python",
   "name": "python",
   "nbconvert_exporter": "python",
   "pygments_lexer": "ipython3",
   "version": "3.10.14"
  }
 },
 "nbformat": 4,
 "nbformat_minor": 2
}
