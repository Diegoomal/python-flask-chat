{
 "cells": [
  {
   "cell_type": "code",
   "execution_count": 1,
   "metadata": {},
   "outputs": [
    {
     "data": {
      "text/plain": [
       "'Información Del Pasajero\\nNÚMERO DE BOLETO\\n0442155218038\\nAPELLIDO DEL PASAJERO\\nS\\nI\\nL\\nV\\nA\\n/\\nR\\nO\\nD\\nR\\nI\\nGO\\nREFERENCIA DE NOMBRE\\nADT\\nFECHA DE EMISIÓN\\n02 SEP 2023\\nAEROLÍNEA EMISORA\\nAEROLINEAS ARGENTINAS\\nAGENTE EMISOR\\nAEROLINEAS\\nARGENTINAS/WED\\nUBICACIÓN DEL AGENTE\\nEMISOR\\nVENTAS AR, ARGENTINA\\nCódigo De Reserva\\nOJLPBI\\nDetalles Del Itinerario\\nVUELO\\nSALIDA\\nARRIBO\\nCABINA/ASIENTO\\nEQUIPAJE\\n(PC =\\nPIEZAS)\\nINFORMACIÓN DE\\nVUELO\\nAR\\n \\n7709\\n \\nVALIDO\\nPARA\\nVIAJAR\\nSAO PAULO GUARULH,\\nBRAZIL \\n(GRU)\\n \\nTERMINAL 2 \\n05/sep/2023\\n \\n09:10\\nAEROPARQUE JORGE\\nNEWBERY (AEP)\\n \\n05/sep/2023\\n \\n12:10\\nRequiere check-in\\n1 pieza\\nOperado por:\\nGOL LINHAS\\nAEREAS\\nCódigo de\\nreservación de la\\naerolínea:\\n \\nICBRXF\\nTipo de tarifa:\\n \\nBase de tarifa:\\nKLOWBXEP\\nNo válido antes del:\\n05 sep\\nNo válido después\\ndel:\\n \\n05 sep\\nEsta no es una tarjeta de embarque\\nAR\\n \\n1258\\n \\nVALIDO\\nPARA\\nVIAJAR\\nAEROPARQUE JORGE\\nNEWBERY \\n(AEP)\\n \\n08/sep/2023\\n \\n16:10\\nSAO PAULO GUARULH,\\nBRAZIL (GRU)\\n \\nTERMINAL 2 \\n08/sep/2023\\n \\n18:50\\nRequiere check-in\\n1 pieza\\nTipo de tarifa:\\n \\nBase de tarifa:\\nBLOWBEP\\nNo válido antes del:\\n08 sep\\nNo válido después\\ndel:\\n \\n08 sep\\nEsta no es una tarjeta de embarque\\nDetalles Del Pago Y Del Recibo\\nTarifa\\nUSD \\n899.00\\nCantidad equivalente\\npagada\\nARS \\n328585.00\\nImpuestos / comisiones\\n/ cargos\\nARS 20833.50 XR2 \\n(XR2)\\nARS 2924.00 TQ2 \\n(Tasa de Seguridad)\\nARS 3655.00 QO \\n(Tasa de Migraciones)\\nARS 4027.90 BR4 \\n(BR4)\\nARS 511.70 S7 \\n(Aviation Security Fee (PSA))\\nARS 147863.30 Q1 \\n(Percepción RG 4815)\\nARS 98575.50 O5 \\n(IMPUESTO PAÍS)\\nARS 16429.30 S5 \\n(Fiscal Tax - AFIP RG 5272)\\nLínea de cálculo de\\ntarifas\\nSAO AR BUE439.00AR\\nSAO460.00NUC899.00END ROE1.00\\nEndoso/restricciones\\nNONEND/REF/PEX/PNTY APPL\\nCargos administrativos\\nARS 5482.50 \\nOB Ticket Fee Web\\nForma de pago\\nTarjeta de crédito - Mastercard :\\nXXXXXXXXXXXX 6109\\nTarifa total\\nARS 623405.20\\nTotal\\nARS \\n628887.70\\nDocumento de identificación válido necesario para el check-in en el aeropuerto\\nAviso:\\nPor favor conozca las \\nCondiciones de Transporte\\n y la información del \\nEquipaje Permitido\\n antes de arribar al\\naeropuerto.\\nAclaración: \\nEn caso de que en la descripción de equipaje figure\\n NIL, \\nsignifica que la tarifa comprada\\n no \\nincluye\\nequipaje en bodega.\\nVuelos dentro de Argentina: 15kg en turista y 15kg en Premium Economy.\\nVuelos Regionales e Internacionales: 23kg tanto en turista como Business, (excepto para la ruta Bogotá que\\npermite hasta 20kg).\\nLe recordamos que debe presentarse en el aeropuerto 3 horas antes de la partida para vuelos domésticos en\\nArgentina y 4 horas antes para vuelos regionales e internacionales.\\nLos dispositivos (cámaras, teléfonos celulares, computadoras, tabletas, equipos electrónicos\\nmédicos portátiles, etc.) en el equipaje de bodega, deben apagarse y protegerse contra daños.\\nCUIT Aerolíneas Argentinas S.A. en Argentina  30-64140555-4. \\nNIT Aerolíneas Argentinas Sucursal  Colombia  8600 20 174-9\\nRFC Aerolíneas Argentinas Sucursal  Mexico AAR901022M62\\nRUC Aerolíneas Argentinas Sucursal  Perú 20100973392\\nNIT Aerolíneas Argentinas Sucursal  Bolivia 1015475029NIT Aerolíneas Argentinas Sucursal  Bolivia 1015475029\\nCodice Fiscale Aerolíneas Argentinas Sucursal  Italia: 00428790588 / Partita IVA: 00889471009\\nAerolíneas Argentinas S.A., se encuentra exceptuada de cumplir con el Régimen de Facturación establecido en la\\nRG 1415, dado que estamos comprendidos en el Anexo I, inciso e) de la mencionada Resolución.\\nSi Usted adquirió, un pasaje internacional o pasaje de cabotaje con origen y/o destino Tierra del Fuego, el recibo\\nremitido por mail, es documento válido, asimilable a una factura.\\nSi Usted adquirió un pasaje de cabotaje, el cual se encuentra gravado por IVA, deberá solicitar la “Constancia de\\nCrédito Fiscal”, según lo establecido en el Anexo IV, punto B), inciso 4., de la RG 1415. Deberá solicitar una\\nconstancia por cada documento emitido. Para solicitar la “Constancia de Crédito Fiscal” acceda\\n \\naqui.\"\\n(*) ESTADO DE RESERVACION: CONFIRMADO. \\nRefleja el estado de la reserva en el sistema de Aerolineas\\nArgentinas, y no refleja el estado del billete ó pasaje aéreo (en su totalidad ó parcial) el cual puede encontrarse\\nutilizado totalmente, parcialmente ó reintegrado el dinero del mismo.\\n(**) PLAN CUOTAS AHORA: \\n13 cuotas: hace referencia a PLAN AHORA 3\\n16 cuotas: hace referencia a PLAN AHORA 6\\n7 cuotas: hace referencia a PLAN AHORA 12\\n8 cuotas: hace referencia a PLAN AHORA 18\\n(***) ANCILLARIES: \\nQTY = CANTIDAD\\nEQUIPAJE\\n1ST ADD BAG: hace referencia a 1er valija adicional\\n2ND ADD BAG: hace referencia a 2da valija adicional\\n3RD ADD BAG: hace referencia a 3er valija adicional\\n4TH ADD BAG: hace referencia a 4ta valija adicional\\nEQUIPAJE ESPECIAL\\n1ST SPECIAL EQUIPMENT: hace referencia a 1er equipaje especial\\n2ND SPECIAL EQUIPMENT: hace referencia a 2do equipaje especial\\n3RD SPECIAL EQUIPMENT: hace referencia a 3er equipaje especial\\nSALÓN CÓNDOR EZEIZA\\nLOUNGE ACCESS SALON CONDOR: hace referencia a Acceso Salón Cóndor\\nComunicación sobre protección de datos:\\n sus datos personales se procesarán de acuerdo con la política de\\nprivacidad aplicable del operador y, si su reserva se realiza mediante un proveedor de sistema de reserva (“GDS”),privacidad aplicable del operador y, si su reserva se realiza mediante un proveedor de sistema de reserva (“GDS”),\\nconforme a su política de privacidad, que estará disponible en http://www.iatatravelcenter.com/privacy, o en el\\noperador o GDS directamente. Debe leer esta documentación, que se aplica a su reserva y especifica, por ejemplo,\\ncómo se recopilan, almacenan, utilizan, revelan y transfieren sus datos personales.\\nAvisos legales importantes'"
      ]
     },
     "execution_count": 1,
     "metadata": {},
     "output_type": "execute_result"
    }
   ],
   "source": [
    "from PyPDF2 import PdfReader\n",
    "\n",
    "reader = PdfReader(\"./aerolineas_flight_ticket.pdf\")\n",
    "\n",
    "document = ''.join(page.extract_text() for page in reader.pages)\n",
    "\n",
    "document"
   ]
  },
  {
   "cell_type": "code",
   "execution_count": 2,
   "metadata": {},
   "outputs": [],
   "source": [
    "import sys\n",
    "sys.path.insert(0, '../src/core/')\n",
    "\n",
    "from llm import ILLM, Ollama, LLMBuilder                                        # type: ignore\n",
    "\n",
    "illm: ILLM = LLMBuilder(\n",
    "    llm_type='ollama',\n",
    "    # model_name='llama3',\n",
    "    # model_name='llama3.2:1b',\n",
    "    model_name='phi3:instruct',\n",
    "    temperature=0\n",
    ")\n",
    "ollm: Ollama = illm.get_instance()"
   ]
  },
  {
   "cell_type": "code",
   "execution_count": 3,
   "metadata": {},
   "outputs": [],
   "source": [
    "from langchain_core.messages import HumanMessage, SystemMessage                 # type: ignore"
   ]
  },
  {
   "cell_type": "code",
   "execution_count": 4,
   "metadata": {},
   "outputs": [
    {
     "data": {
      "text/plain": [
       "'Estimado cliente de Aerolíneas Argentinas Sucursal en Colombia:\\n\\nLe escribo para informarle sobre la reserva que ha realizado con nuestro sistema, especificando el estado actual y los detalles pertinentes. Su viaje se encuentra confirmado bajo las siguientes condiciones:\\n\\n- Estado de Reserva: CONFIRMADO (E)\\n- Codigo Fiscale Argentina Sucursal en Italia: 00428790588 / Partita IVA: 0 end of document.'"
      ]
     },
     "execution_count": 4,
     "metadata": {},
     "output_type": "execute_result"
    }
   ],
   "source": [
    "system_message = SystemMessage(\n",
    "    content=\"\"\"\n",
    "      You are an assistant specialized in language translation.\n",
    "      Translate the text to English to facilitate the extraction process. \n",
    "    \"\"\"\n",
    ")\n",
    "human_message=HumanMessage( content=document )\n",
    "result = ollm.invoke([system_message, human_message])\n",
    "result"
   ]
  },
  {
   "cell_type": "code",
   "execution_count": 5,
   "metadata": {},
   "outputs": [
    {
     "data": {
      "text/plain": [
       "'Estimado cliente de Aerolíneas Argentinas Sucursal en Colombia:\\n\\nLe escribo para informarle sobre la reserva que usted ha realizado con nuestro sistema y los aspectos relacionados a su viaje. Le proporciono información detallada acerca del estado de su reserva, el plan cuotas actual, equipaje especial adicional si se requirió, así como las políticas sobre protección de datos personales que aplicamos en nuestro sistema y cómo puede acceder a ellor para obtener más información.\\n\\n**Estado de la Reserva:**\\nSu reserva ha sido confirmada con éxito por parte del Sistema Aerolineas Argentinas, lo cual significa que su viaje está programado y listo para realizarse según sus preferencias especificadas en el sistema. Es importante mencionar que este estado refleja la confirma01\\n'"
      ]
     },
     "execution_count": 5,
     "metadata": {},
     "output_type": "execute_result"
    }
   ],
   "source": [
    "system_message = SystemMessage( \n",
    "    content=\"\"\"\n",
    "      You are an assistant specialized in creating highly detailed descriptions based on user-provided information.\n",
    "      Your task is to generate an extensive, comprehensive, and thorough description of the data given, leaving no detail unaddressed. Break down the information clearly, covering all relevant aspects with precision.\n",
    "      Ensure the description is well-organized, with clear sections where appropriate. Be mindful to elaborate on context, specific elements, and nuances in the information, so the user can fully understand each point.\n",
    "    \"\"\"\n",
    ")\n",
    "result = ollm.invoke([system_message, human_message])\n",
    "result"
   ]
  },
  {
   "cell_type": "code",
   "execution_count": 6,
   "metadata": {},
   "outputs": [],
   "source": [
    "human_message=HumanMessage( content=result )"
   ]
  },
  {
   "cell_type": "code",
   "execution_count": 7,
   "metadata": {},
   "outputs": [
    {
     "data": {
      "text/plain": [
       "\"I'm sorry, but it seems like the text provided is incomplete and does not contain sufficient information to answer your questions about flight details such as departure airport name/code, destination airport name/code, scheduled times, reservation code, flight dates, or baggage policies. To provide accurate answers, I would need a complete passage with specifics regarding these aspects of the flight in question. If you can provide more context or additional parts of the text that include this information, please do so and I'll be happy to assist further!\""
      ]
     },
     "execution_count": 7,
     "metadata": {},
     "output_type": "execute_result"
    }
   ],
   "source": [
    "system_message = SystemMessage( \n",
    "    content=\"\"\"\n",
    "      You are an assistant specialized in answering detailed questions about flight information. Based on the provided text, answer the following questions:\n",
    "\n",
    "      1. What is the name of the departure airport?\n",
    "      2. What is the IATA code for the departure airport?\n",
    "      3. What is the name of the destination airport?\n",
    "      4. What is the IATA code for the destination airport?\n",
    "      5. What is the scheduled departure time of the flight?\n",
    "      6. What is the scheduled arrival time of the flight?\n",
    "      7. What is the reservation code for the flight?\n",
    "      8. What are the flight dates?\n",
    "      9. What are the baggage policies or information for the flight?\n",
    "\n",
    "      Answer each question clearly and precisely, based on the details in the text.\n",
    "    \"\"\"\n",
    ")\n",
    "result = ollm.invoke([system_message, human_message])\n",
    "result\n"
   ]
  },
  {
   "cell_type": "code",
   "execution_count": 8,
   "metadata": {},
   "outputs": [
    {
     "data": {
      "text/plain": [
       "'```json\\n{\\n    \"departure_airport\": \"Aeropuerto Internacional General José Antonio Anzoátegui\",\\n    \"departure_airport_code\": \"VGNU\",\\n    \"destination_airport\": \"Aeropuerto Internacional El Dorado\",\\n    \"destination_airport_code\": \"KBOS\",\\n    \"departure_time\": \"10:00 AM local time\",\\n    \"arrival_time\": \"2:30 PM local time\",\\n    \"reservation_code\": \"ARG-456789ABCD\",\\n    \"flight_dates\": \"April 15, 2023 - April 17, 2023\",\\n    \"baggage_information\": \"Allowed two checked bags up to 23kg each and one carry-on bag\"\\n}\\n```'"
      ]
     },
     "execution_count": 8,
     "metadata": {},
     "output_type": "execute_result"
    }
   ],
   "source": [
    "system_message = SystemMessage( \n",
    "    content=\"\"\"\n",
    "      You are an assistant specialized in extracting flight information from text. Based on the provided text, answer the following questions and respond exclusively with a filled JSON, without any additional comments or explanations:\n",
    "\n",
    "      {\n",
    "        \"departure_airport\": \"Answer to question 1\",\n",
    "        \"departure_airport_code\": \"Answer to question 2\",\n",
    "        \"destination_airport\": \"Answer to question 3\",\n",
    "        \"destination_airport_code\": \"Answer to question 4\",\n",
    "        \"departure_time\": \"Answer to question 5\",\n",
    "        \"arrival_time\": \"Answer to question 6\",\n",
    "        \"reservation_code\": \"Answer to question 7\",\n",
    "        \"flight_dates\": \"Answer to question 8\",\n",
    "        \"baggage_information\": \"Answer to question 9\"\n",
    "      }\n",
    "\n",
    "      Only respond with the completed JSON format.\n",
    "    \"\"\"\n",
    ")\n",
    "result = ollm.invoke([system_message, human_message])\n",
    "result\n"
   ]
  }
 ],
 "metadata": {
  "kernelspec": {
   "display_name": "python-flask-chat-env",
   "language": "python",
   "name": "python3"
  },
  "language_info": {
   "codemirror_mode": {
    "name": "ipython",
    "version": 3
   },
   "file_extension": ".py",
   "mimetype": "text/x-python",
   "name": "python",
   "nbconvert_exporter": "python",
   "pygments_lexer": "ipython3",
   "version": "3.10.14"
  }
 },
 "nbformat": 4,
 "nbformat_minor": 2
}
