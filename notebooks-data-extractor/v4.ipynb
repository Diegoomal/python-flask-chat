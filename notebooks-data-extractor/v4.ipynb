{
 "cells": [
  {
   "cell_type": "code",
   "execution_count": 8,
   "metadata": {},
   "outputs": [],
   "source": [
    "import pdfplumber\n",
    "\n",
    "with pdfplumber.open('./boardingpass_2.pdf') as pdf:\n",
    "    documents = \"\"\n",
    "    for page in pdf.pages:\n",
    "        documents += page.extract_text()\n",
    "\n",
    "# print(documents)"
   ]
  },
  {
   "cell_type": "code",
   "execution_count": 9,
   "metadata": {},
   "outputs": [],
   "source": [
    "import sys\n",
    "sys.path.insert(0, '../src/core/')\n",
    "\n",
    "from llm import ILLM, Ollama, LLMBuilder                                        # type: ignore\n",
    "\n",
    "models = [ 'llama3', 'llama3.2:1b', 'llava', 'phi3:instruct', 'bakllava', 'llava-llama3' ]\n",
    "illm: ILLM = LLMBuilder(llm_type='ollama', model_name=models[0], temperature=0)\n",
    "ollm: Ollama = illm.get_instance()"
   ]
  },
  {
   "cell_type": "code",
   "execution_count": 10,
   "metadata": {},
   "outputs": [],
   "source": [
    "from langchain_core.messages import HumanMessage, SystemMessage                 # type: ignore"
   ]
  },
  {
   "cell_type": "code",
   "execution_count": 11,
   "metadata": {},
   "outputs": [],
   "source": [
    "system_message = SystemMessage(\n",
    "    content=\"\"\"\n",
    "        You are an assistant specialized in extracting structured data from images based on the provided text, answer the following questions and respond exclusively with util data, without any additional comments or explanations.\n",
    "    \"\"\"\n",
    ")\n",
    "human_message=HumanMessage(\n",
    "    content= f\"\"\"\n",
    "        The text contain important information in boxes, and your goal is to extract the following fields:\n",
    "\n",
    "        \"Información Del Pasajero\": {\n",
    "            \"NÚMERO DE BOLETO\",\n",
    "            \"APELLIDO DEL PASAJERO\",\n",
    "            \"REFERENCIA DE NOMBRE\",\n",
    "            \"FECHA DE EMISIÓN\",\n",
    "            \"AEROLÍNEA EMISORA\",\n",
    "            \"AGENTE EMISOR\",\n",
    "            \"UBICACIÓN DEL AGENTE EMISOR\"\n",
    "        }\n",
    "\n",
    "        documents: {documents}\n",
    "\n",
    "        Only respond with the completed JSON format.\n",
    "    \"\"\"\n",
    ")"
   ]
  },
  {
   "cell_type": "code",
   "execution_count": 12,
   "metadata": {},
   "outputs": [
    {
     "data": {
      "text/plain": [
       "'{\\n\"NÚMERO DE BOLETO\": \"0476623968947\",\\n\"APELLIDO DEL PASAJERO\": \"SILVA/RODRIGO\",\\n\"REFERENCIA DE NOMBRE\": \"Nome/Name SILVA/RODRIGO\",\\n\"FECHA DE EMISIÓN\": \"16 Feb 24\",\\n\"AEROLÍNEA EMISORA\": \"TP675\",\\n\"AGENTE EMISOR\": \"Check monitorsY\",\\n\"UBICACIÓN DEL AGENTE EMISOR\": \"29E A\"\\n}'"
      ]
     },
     "execution_count": 12,
     "metadata": {},
     "output_type": "execute_result"
    }
   ],
   "source": [
    "response = ollm.invoke([system_message, human_message])\n",
    "response"
   ]
  }
 ],
 "metadata": {
  "kernelspec": {
   "display_name": "python-flask-chat-env",
   "language": "python",
   "name": "python3"
  },
  "language_info": {
   "codemirror_mode": {
    "name": "ipython",
    "version": 3
   },
   "file_extension": ".py",
   "mimetype": "text/x-python",
   "name": "python",
   "nbconvert_exporter": "python",
   "pygments_lexer": "ipython3",
   "version": "3.10.15"
  }
 },
 "nbformat": 4,
 "nbformat_minor": 2
}
