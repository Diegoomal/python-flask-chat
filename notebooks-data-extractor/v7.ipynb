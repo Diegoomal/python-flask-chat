{
 "cells": [
  {
   "cell_type": "code",
   "execution_count": 1,
   "metadata": {},
   "outputs": [],
   "source": [
    "FILE_PATH = './boardingpass_1.pdf'"
   ]
  },
  {
   "cell_type": "code",
   "execution_count": 2,
   "metadata": {},
   "outputs": [],
   "source": [
    "import sys\n",
    "sys.path.insert(0, '../src/core/')\n",
    "\n",
    "from langchain_core.messages import HumanMessage, SystemMessage                 # type: ignore\n",
    "\n",
    "from utils import (                                                             # type: ignore\n",
    "    get_ollama_instance,\n",
    "    pypdf2_get_text_from_pdf,\n",
    "    pdfplumber_get_text_from_pdf,\n",
    "    pdf2img_get_image_from_pdf,\n",
    "    process_image,\n",
    "    get_imgs_b64,\n",
    "    show_image\n",
    ")"
   ]
  },
  {
   "cell_type": "code",
   "execution_count": 3,
   "metadata": {},
   "outputs": [],
   "source": [
    "imgs = pdf2img_get_image_from_pdf(FILE_PATH)\n",
    "\n",
    "imgs = process_image(imgs)\n",
    "\n",
    "imgs = get_imgs_b64(imgs)\n",
    "\n",
    "# show_image(imgs[0])"
   ]
  },
  {
   "cell_type": "code",
   "execution_count": 4,
   "metadata": {},
   "outputs": [
    {
     "data": {
      "text/plain": [
       "'```json\\n[\\n    {\\n        \"subject\": \"Aerial view of a city\",\\n        \"action\": \"captured by drone footage\"\\n    },\\n    {\\n        \"object\": \"Skyscrapers and high-rise buildings in the downtner area\",\\n        \"attribute\": \"gleaming glass facades, reflecting sunlight at midday\"\\n    },\\n    {\\n        \"subject\": \"Downtown skyline during rush hour traffic\",\\n        \"action\": \"cars and buses moving along main roads with yellow taxis in the background\"\\n    },\\n    {\\n        \"object\": \"Public transportation system including subway lines, trains, trams, and bus stops\",\\n        \"attribute\": \"bustling crowds during peak hours at busy intersections near train stations\"\\n    },\\n    {\\n        \"subject\": \"Parking lots with various types of vehicles parked in different sections\",\\n        \"action\": \"vehicles entering or exiting the parking lot throughout the day, some cars are electric and charging nearby\"\\n    },\\n    {\\n        \"object\": \"Residential areas on the outskirs of the city with single-family homes and small apartment buildings\",\\n        \"attribute\": \"green lawns in front yards, children playing outside near well-maintained playground equipment\"\\n    },\\n    {\\n        \"subject\": \"Industrial zones located at the edge of the metropolitan area\",\\n        \"action\": \"large factories with smokestacks emitting steam and industrial machinery operating in shifts throughout the day\"\\n    },\\n    {\\n        \"object\": \"Waterfront areas along a river flowing through the city center, featuring docks and piers for boats\",\\n        \"attribute\": \"fishing vessels docked at night with fishermen unloading their catch near restaurants specializing in seafood\"\\n    },\\n    {\\n        \"subject\": \"Shopping districts filled with pedestrians during weekends, featuring outdoor cafes and street performers\",\\n        \"action\": \"shoppers browsing through stores while enjoying their coffee at sidewalk tables outside the shops\"\\n    },\\n    {\\n        \"object\": \"Government buildings including a city hall with domed roofs and an adjacent courthouse, surrounded by security personnel in uniform\",\\n        \"attribute\": \"tourists taking photos of these landmarks during public holidays or special events like Independence Day\"\\n    }\\n]\\n```'"
      ]
     },
     "execution_count": 4,
     "metadata": {},
     "output_type": "execute_result"
    }
   ],
   "source": [
    "system_message = SystemMessage(content=\"\"\"You are an assistant specialized in extracting structured data from images based on the provided text, answer the following questions and respond exclusively with util data, without any additional comments or explanations.\"\"\")\n",
    "\n",
    "human_message=HumanMessage(content= \"\"\"Images provided: {{images}}\"\"\")\n",
    "\n",
    "ollm_v = get_ollama_instance('llava')\n",
    "\n",
    "response = ollm_v.bind(images=[imgs[0]]).invoke([system_message, human_message])\n",
    "response"
   ]
  },
  {
   "cell_type": "code",
   "execution_count": 5,
   "metadata": {},
   "outputs": [],
   "source": [
    "# documents_1 = pypdf2_get_text_from_pdf(FILE_PATH)"
   ]
  },
  {
   "cell_type": "code",
   "execution_count": 6,
   "metadata": {},
   "outputs": [],
   "source": [
    "# documents_2 = pdfplumber_get_text_from_pdf(FILE_PATH)"
   ]
  },
  {
   "cell_type": "code",
   "execution_count": 7,
   "metadata": {},
   "outputs": [],
   "source": [
    "# ollm = get_ollama_instance('llama3')\n",
    "# response = ollm.invoke([system_message, human_message])\n",
    "# response"
   ]
  }
 ],
 "metadata": {
  "kernelspec": {
   "display_name": "python-flask-chat-env",
   "language": "python",
   "name": "python3"
  },
  "language_info": {
   "codemirror_mode": {
    "name": "ipython",
    "version": 3
   },
   "file_extension": ".py",
   "mimetype": "text/x-python",
   "name": "python",
   "nbconvert_exporter": "python",
   "pygments_lexer": "ipython3",
   "version": "3.10.15"
  }
 },
 "nbformat": 4,
 "nbformat_minor": 2
}
