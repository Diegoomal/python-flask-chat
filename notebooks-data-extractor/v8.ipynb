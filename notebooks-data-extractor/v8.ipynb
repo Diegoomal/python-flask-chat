{
 "cells": [
  {
   "cell_type": "code",
   "execution_count": 1,
   "metadata": {},
   "outputs": [],
   "source": [
    "FILE_PATH = './boardingpass_1.pdf'"
   ]
  },
  {
   "cell_type": "code",
   "execution_count": 2,
   "metadata": {},
   "outputs": [],
   "source": [
    "import sys\n",
    "sys.path.insert(0, '../src/core/')\n",
    "\n",
    "from langchain_core.messages import HumanMessage, SystemMessage                 # type: ignore\n",
    "\n",
    "from utils import (                                                             # type: ignore\n",
    "    get_ollama_instance,\n",
    "    pypdf2_get_text_from_pdf,\n",
    "    pdfplumber_get_text_from_pdf,\n",
    "    pdf2img_get_image_from_pdf,\n",
    "    process_image,\n",
    "    get_imgs_b64,\n",
    "    show_image\n",
    ")"
   ]
  },
  {
   "cell_type": "code",
   "execution_count": 3,
   "metadata": {},
   "outputs": [],
   "source": [
    "imgs = pdf2img_get_image_from_pdf(FILE_PATH)\n",
    "\n",
    "# imgs[0].show()"
   ]
  },
  {
   "cell_type": "code",
   "execution_count": 4,
   "metadata": {},
   "outputs": [],
   "source": [
    "imgs = process_image(imgs)\n",
    "# imgs[0]"
   ]
  },
  {
   "cell_type": "code",
   "execution_count": 5,
   "metadata": {},
   "outputs": [],
   "source": [
    "imgs = get_imgs_b64(imgs, filter_data=False)\n",
    "# show_image(imgs[0])"
   ]
  },
  {
   "cell_type": "code",
   "execution_count": 6,
   "metadata": {},
   "outputs": [],
   "source": [
    "# ollm_v = get_ollama_instance('moondream')\n",
    "# prompt = \"\"\"Describe image {{imagens}} \"\"\"\n",
    "# response = ollm_v.bind(images=[imgs[0]]).invoke(prompt)\n",
    "# print(response)"
   ]
  },
  {
   "cell_type": "code",
   "execution_count": 7,
   "metadata": {},
   "outputs": [],
   "source": [
    "# ollm_v = get_ollama_instance('moondream')\n",
    "# prompt = \"\"\" get text from image {{imagens}} \"\"\"\n",
    "# response = ollm_v.bind(images=[imgs[0]]).invoke(prompt)\n",
    "# print(response)"
   ]
  },
  {
   "cell_type": "code",
   "execution_count": null,
   "metadata": {},
   "outputs": [],
   "source": [
    "# prompt = \"\"\"\n",
    "\n",
    "# You are an assistant specialized in extracting structured data from images based on the provided text, \n",
    "# answer the following questions and respond exclusively with util data, \n",
    "# without any additional comments or explanations.\n",
    "\n",
    "# The text contain important information in boxes, and your goal is to extract the following fields:\n",
    "\n",
    "\n",
    "\n",
    "# documents: {{images}}\n",
    "\n",
    "# \"\"\"\n",
    "\n",
    "# ollm_v = get_ollama_instance('llava')\n",
    "# response = ollm_v.bind(images=[imgs[0]]).invoke(prompt)\n",
    "# print(response)"
   ]
  },
  {
   "cell_type": "code",
   "execution_count": null,
   "metadata": {},
   "outputs": [],
   "source": [
    "# prompt = \"\"\"\n",
    "# You are an expert assistant tasked with extracting specific data from a boarding pass. Your goal is to identify and extract the following key fields from the image of the boarding pass:\n",
    "\n",
    "# 1. Passenger Name\n",
    "# 2. Flight Number\n",
    "# 3. Airline\n",
    "# 4. Flight Date\n",
    "# 5. Boarding Time\n",
    "# 6. Departure Time\n",
    "# 7. Gate Number\n",
    "# 8. Seat Number\n",
    "# 9. Class\n",
    "# 10. Booking Reference (PNR)\n",
    "# 11. Boarding Pass Number\n",
    "# 12. Departure Airport\n",
    "# 13. Arrival Airport\n",
    "# 14. Barcode or QR Code Data (if present)\n",
    "\n",
    "# Please extract and present the information in a structured format. If a field is missing or unreadable, indicate it as 'Not available'. Focus only on these fields and ensure no additional comments or explanations are provided.\n",
    "\n",
    "# Image: {{images}}\n",
    "# \"\"\"\n",
    "\n",
    "# ollm_v = get_ollama_instance('llava')\n",
    "# response = ollm_v.bind(images=[imgs[0]]).invoke(prompt)\n",
    "# print(response)"
   ]
  },
  {
   "cell_type": "code",
   "execution_count": null,
   "metadata": {},
   "outputs": [],
   "source": [
    "# prompt = \"\"\"\n",
    "# You are an expert assistant tasked with extracting specific data from a boarding pass. Your goal is to identify and extract the following key fields from the image of the boarding pass:\n",
    "\n",
    "# {\n",
    "#   \"passenger_name\": \"Passenger Name, Nome do Passageiro, Nome\",\n",
    "#   \"flight_number\": \"Flight Number, Número do Voo, Número de Voo\",\n",
    "#   \"airline\": \"Airline, Companhia Aérea, Transportadora\",\n",
    "#   \"flight_date\": \"Flight Date, Data do Voo, Data de Partida, Data de Embarque\",\n",
    "#   \"boarding_time\": \"Boarding Time, Hora de Embarque, Hora de Entrada\",\n",
    "#   \"departure_time\": \"Departure Time, Hora de Partida, Hora do Voo\",\n",
    "#   \"gate_number\": \"Gate Number, Número do Portão, Portão\",\n",
    "#   \"seat_number\": \"Seat Number, Número do Assento, Assento\",\n",
    "#   \"class\": \"Class, Classe, Classe de Viagem, Categoria\",\n",
    "#   \"booking_reference\": \"Booking Reference, PNR, Código de Reserva\",\n",
    "#   \"boarding_pass_number\": \"Boarding Pass Number, Número do Cartão de Embarque\",\n",
    "#   \"departure_airport\": \"Departure Airport, Aeroporto de Partida, Aeroporto de Origem\",\n",
    "#   \"arrival_airport\": \"Arrival Airport, Aeroporto de Chegada, Aeroporto de Destino\",\n",
    "#   \"barcode_or_qr_code_data\": \"Barcode, QR Code, Código de Barras, Dados QR\"\n",
    "# }\n",
    "\n",
    "\n",
    "# Please extract and present the information in a structured format. If a field is missing or unreadable, indicate it as 'Not available'. Focus only on these fields and ensure no additional comments or explanations are provided.\n",
    "\n",
    "# Image: {{images}}\n",
    "# \"\"\"\n",
    "\n",
    "# ollm_v = get_ollama_instance('llava')\n",
    "# response = ollm_v.bind(images=[imgs[0]]).invoke(prompt)\n",
    "# print(response)"
   ]
  },
  {
   "cell_type": "code",
   "execution_count": 12,
   "metadata": {},
   "outputs": [
    {
     "name": "stdout",
     "output_type": "stream",
     "text": [
      " ```json\n",
      "{\n",
      "  \"passenger_name\": \"Not available\"\n",
      "}\n",
      "``` \n"
     ]
    }
   ],
   "source": [
    "prompt = \"\"\"\n",
    "You are an expert assistant tasked with extracting specific data from a boarding pass.\n",
    "Your goal is to identify and extract the following key fields from the image of the boarding pass:\n",
    "\n",
    "{\n",
    "  \"passenger_name\": \"Passenger Name, Nome do Passageiro, Nome, APELLIDO DEL PASAJERO\"\n",
    "}\n",
    "\n",
    "Please extract and present the information in a structured format.\n",
    "If a field is missing or unreadable, indicate it as 'Not available'.\n",
    "Focus only on these fields and ensure no additional comments or explanations are provided.\n",
    "\n",
    "Image: {{images}}\n",
    "\"\"\"\n",
    "\n",
    "ollm_v = get_ollama_instance('llava')\n",
    "response = ollm_v.bind(images=[imgs[0]]).invoke(prompt)\n",
    "print(response)"
   ]
  }
 ],
 "metadata": {
  "kernelspec": {
   "display_name": "python-flask-chat-env",
   "language": "python",
   "name": "python3"
  },
  "language_info": {
   "codemirror_mode": {
    "name": "ipython",
    "version": 3
   },
   "file_extension": ".py",
   "mimetype": "text/x-python",
   "name": "python",
   "nbconvert_exporter": "python",
   "pygments_lexer": "ipython3",
   "version": "3.10.15"
  }
 },
 "nbformat": 4,
 "nbformat_minor": 2
}
