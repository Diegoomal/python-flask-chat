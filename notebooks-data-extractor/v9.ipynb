{
 "cells": [
  {
   "cell_type": "code",
   "execution_count": 1,
   "metadata": {},
   "outputs": [],
   "source": [
    "FILE_PATH = './boardingpass_3.pdf'"
   ]
  },
  {
   "cell_type": "code",
   "execution_count": 2,
   "metadata": {},
   "outputs": [],
   "source": [
    "import sys\n",
    "sys.path.insert(0, '../src/core/')\n",
    "\n",
    "from utils import (                                                             # type: ignore\n",
    "    get_ollama_instance,\n",
    "    pypdf2_get_text_from_pdf,\n",
    "    pdfplumber_get_text_from_pdf,\n",
    "    pdf2img_get_image_from_pdf,\n",
    "    process_image,\n",
    "    get_imgs_b64,\n",
    "    show_image,\n",
    "    extract_text_with_OCR\n",
    ")"
   ]
  },
  {
   "cell_type": "code",
   "execution_count": 3,
   "metadata": {},
   "outputs": [],
   "source": [
    "imgs = pdf2img_get_image_from_pdf(FILE_PATH)\n",
    "\n",
    "imgs = process_image(imgs)\n",
    "\n",
    "data = extract_text_with_OCR(imgs[0])"
   ]
  },
  {
   "cell_type": "code",
   "execution_count": 4,
   "metadata": {},
   "outputs": [
    {
     "name": "stdout",
     "output_type": "stream",
     "text": [
      "{\n",
      "\"passenger_name\": \"\",\n",
      "\"flight_number\": \"OB607\",\n",
      "\"airline\": \"Boliviana de Aviacion\",\n",
      "\"flight_date\": \"20 Jul 2024 - 20 Jul 2024\",\n",
      "\"boarding_time\": \"10:35\",\n",
      "\"departure_time\": \"\",\n",
      "\"gate_number\": \"R18 Grupo4\",\n",
      "\"seat_number\": \"3C =\",\n",
      "\"class\": \"Ejecutiva\",\n",
      "\"booking_reference\": \"930909836441203\",\n",
      "\"boarding_pass_number\": \"\",\n",
      "\"departure_airport\": \"La Paz EI Alto intl - Cochabamba J orge Wilsterman\",\n",
      "\"arrival_airport\": \"\",\n",
      "\"barcode_or_qr_code_data\": \"\"\n",
      "}\n"
     ]
    }
   ],
   "source": [
    "prompt = f\"\"\" \n",
    "You are an assistant specialized in extracting structured data from images based on the provided text, \n",
    "answer the following questions and respond exclusively with util data, without any additional comments \n",
    "or explanations.\n",
    "\n",
    "data: { data }\n",
    "\n",
    "The text contain important information in boxes, and your goal is to extract the following fields:\n",
    "\n",
    "\"passenger_name\": \"Passenger Name, Nome do Passageiro, Nome\",\n",
    "\"flight_number\": \"Flight Number, Número do Voo, Número de Voo\",\n",
    "\"airline\": \"Airline, Companhia Aérea, Transportadora\",\n",
    "\"flight_date\": \"Flight Date, Data do Voo, Data de Partida, Data de Embarque\",\n",
    "\"boarding_time\": \"Boarding Time, Hora de Embarque, Hora de Entrada\",\n",
    "\"departure_time\": \"Departure Time, Hora de Partida, Hora do Voo\",\n",
    "\"gate_number\": \"Gate Number, Número do Portão, Portão\",\n",
    "\"seat_number\": \"Seat Number, Número do Assento, Assento\",\n",
    "\"class\": \"Class, Classe, Classe de Viagem, Categoria\",\n",
    "\"booking_reference\": \"Booking Reference, PNR, Código de Reserva\",\n",
    "\"boarding_pass_number\": \"Boarding Pass Number, Número do Cartão de Embarque\",\n",
    "\"departure_airport\": \"Departure Airport, Aeroporto de Partida, Aeroporto de Origem\",\n",
    "\"arrival_airport\": \"Arrival Airport, Aeroporto de Chegada, Aeroporto de Destino\",\n",
    "\"barcode_or_qr_code_data\": \"Barcode, QR Code, Código de Barras, Dados QR\"\n",
    "\n",
    "Only respond with the completed JSON format.\n",
    "\n",
    "\"\"\"\n",
    "\n",
    "ollm = get_ollama_instance('llama3')\n",
    "response_1 = ollm.invoke(prompt)\n",
    "print(response_1)"
   ]
  }
 ],
 "metadata": {
  "kernelspec": {
   "display_name": "python-flask-chat-env",
   "language": "python",
   "name": "python3"
  },
  "language_info": {
   "codemirror_mode": {
    "name": "ipython",
    "version": 3
   },
   "file_extension": ".py",
   "mimetype": "text/x-python",
   "name": "python",
   "nbconvert_exporter": "python",
   "pygments_lexer": "ipython3",
   "version": "3.10.15"
  }
 },
 "nbformat": 4,
 "nbformat_minor": 2
}
