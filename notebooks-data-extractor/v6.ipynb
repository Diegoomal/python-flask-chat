{
 "cells": [
  {
   "cell_type": "code",
   "execution_count": 1,
   "metadata": {},
   "outputs": [],
   "source": [
    "import pdfplumber # type: ignore\n",
    "\n",
    "with pdfplumber.open('./boardingpass_2.pdf') as pdf:\n",
    "    documents = \"\"\n",
    "    for page in pdf.pages:\n",
    "        documents += page.extract_text()\n",
    "\n",
    "# print(documents)"
   ]
  },
  {
   "cell_type": "code",
   "execution_count": 2,
   "metadata": {},
   "outputs": [],
   "source": [
    "import sys\n",
    "sys.path.insert(0, '../src/core/')\n",
    "\n",
    "from llm import ILLM, Ollama, LLMBuilder                                        # type: ignore\n",
    "\n",
    "models = [ 'llama3', 'llama3.2:1b', 'llava', 'phi3:instruct', 'bakllava', 'llava-llama3' ]\n",
    "illm: ILLM = LLMBuilder(llm_type='ollama', model_name=models[0], temperature=0)\n",
    "ollm: Ollama = illm.get_instance()"
   ]
  },
  {
   "cell_type": "code",
   "execution_count": 3,
   "metadata": {},
   "outputs": [],
   "source": [
    "from langchain_core.messages import HumanMessage, SystemMessage                 # type: ignore"
   ]
  },
  {
   "cell_type": "code",
   "execution_count": 4,
   "metadata": {},
   "outputs": [],
   "source": [
    "system_message = SystemMessage(\n",
    "    content=\"\"\"\n",
    "        You are an assistant specialized in extracting structured data from images based on the provided text, answer the following questions and respond exclusively with util data, without any additional comments or explanations.\n",
    "    \"\"\"\n",
    ")\n",
    "human_message=HumanMessage(\n",
    "    content= \"\"\"\n",
    "        The text contain important information in boxes, and your goal is to extract the following fields:\n",
    "\n",
    "        \n",
    "        {\n",
    "            \"Información Del Pasajero\": {\n",
    "                \"NÚMERO DE BOLETO\": \"\",\n",
    "                \"Código De Reserva\": \"\",\n",
    "                \"APELLIDO DEL PASAJERO\": \"\",\n",
    "                \"REFERENCIA DE NOMBRE: \"\",\n",
    "                \"FECHA DE EMISIÓN\": \"\",\n",
    "                \"AEROLÍNEA EMISORA\": '',\n",
    "                \"AGENTE EMISOR\": '',\n",
    "                \"UBICACIÓN DEL AGENTE EMISOR\": ''\n",
    "            },\n",
    "        }\n",
    "        \n",
    "\n",
    "        Only respond with the completed JSON format.\n",
    "\n",
    "        documents:\n",
    "    \"\"\" + documents\n",
    ")"
   ]
  },
  {
   "cell_type": "code",
   "execution_count": 5,
   "metadata": {},
   "outputs": [
    {
     "data": {
      "text/plain": [
       "'{\\n    \"Información Del Pasajero\": {\\n        \"NÚMERO DE BOLETO\": \"0476623968947\",\\n        \"Código De Reserva\": \"\",\\n        \"APELLIDO DEL PASAJERO\": \"SILVA/RODRIGO\",\\n        \"REFERENCIA DE NOMBRE\": \"\",\\n        \"FECHA DE EMISIÓN\": \"16 Feb 24\",\\n        \"AEROLÍNEA EMISORA\": \"TP675\",\\n        \"AGENTE EMISOR\": \"\",\\n        \"UBICACIÓN DEL AGENTE EMISOR\": \"\"\\n    }\\n}'"
      ]
     },
     "execution_count": 5,
     "metadata": {},
     "output_type": "execute_result"
    }
   ],
   "source": [
    "response = ollm.invoke([system_message, human_message])\n",
    "response"
   ]
  }
 ],
 "metadata": {
  "kernelspec": {
   "display_name": "python-flask-chat-env",
   "language": "python",
   "name": "python3"
  },
  "language_info": {
   "codemirror_mode": {
    "name": "ipython",
    "version": 3
   },
   "file_extension": ".py",
   "mimetype": "text/x-python",
   "name": "python",
   "nbconvert_exporter": "python",
   "pygments_lexer": "ipython3",
   "version": "3.10.15"
  }
 },
 "nbformat": 4,
 "nbformat_minor": 2
}
