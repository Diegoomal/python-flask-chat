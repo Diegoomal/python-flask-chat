{
 "cells": [
  {
   "cell_type": "code",
   "execution_count": 1,
   "metadata": {},
   "outputs": [],
   "source": [
    "import sys\n",
    "sys.path.insert(0, '../src/core/')\n",
    "\n",
    "from utils import (                                                             # type: ignore\n",
    "    get_ollama_instance,\n",
    "    pypdf2_get_text_from_pdf,\n",
    "    pdfplumber_get_text_from_pdf,\n",
    "    pdf2img_get_image_from_pdf,\n",
    "    process_image,\n",
    "    get_imgs_b64,\n",
    "    show_image,\n",
    "    extract_text_with_OCR\n",
    ")"
   ]
  },
  {
   "cell_type": "code",
   "execution_count": 2,
   "metadata": {},
   "outputs": [],
   "source": [
    "def pipeline(file_path: str):\n",
    "    \n",
    "    imgs = pdf2img_get_image_from_pdf(file_path)\n",
    "\n",
    "    imgs = process_image(imgs)\n",
    "\n",
    "    data = extract_text_with_OCR(imgs[0])\n",
    "\n",
    "    prompt = \"\"\" \n",
    "You are a specialized assistant for extracting structured data from text. Your task is to analyze the provided data and extract specific fields without any additional commentary or explanations.\n",
    "\n",
    "Data: {}\n",
    "\n",
    "Please extract the following fields, ensuring accuracy and maintaining the specified formats:\n",
    "\n",
    "{{\n",
    "  \"passenger_name\": \"Passenger's name in the format 'LASTNAME/FIRSTNAME', e.g., 'SILVA/RODRIGO'\",\n",
    "  \"ticket_number\": \"Ticket number, typically a 10 to 15 character numeric or alphanumeric code, e.g., '0442155218038'\",\n",
    "  \"booking_reference\": \"Booking reference (PNR), which can be an alphanumeric sequence, e.g., 'OJLPBI'\",\n",
    "  \"flight_info\": [\n",
    "    {{\n",
    "      \"flight_number\": \"Flight number, usually in the format 'AIRLINE_CODE FLIGHT_NUMBER', e.g., 'AR 7709'\",\n",
    "      \"departure_city\": \"City of departure, e.g., 'SAO PAULO GUARULH, BRAZIL'\",\n",
    "      \"arrival_city\": \"City of arrival, e.g., 'AEROPARQUE JORGE NEWBERY (AEP)'\",\n",
    "      \"departure_date\": \"Departure date formatted as 'DD/MMM/YYYY', e.g., '05/sep/2023'\",\n",
    "      \"boarding_time\": \"Boarding time formatted as 'HH:MM', e.g., '09:10'\",\n",
    "      \"departure_time\": \"Departure time formatted as 'HH:MM', e.g., '12:10'\",\n",
    "      \"gate\": \"Gate number or description, e.g., 'TERMINAL 2' or 'Check monitors'\",\n",
    "      \"class\": \"Flight class, can be economy, business, or first class, e.g., 'Cabina/Asiento' or '29E'\",\n",
    "      \"seat\": \"Seat number, which can be a number or a combination of letter and number, e.g., '1' or '28F'\",\n",
    "      \"baggage_info\": {{\n",
    "        \"allowed\": \"Allowed baggage quantity, e.g., '1 piece', '2 pieces', 'None'\",\n",
    "        \"weight\": \"Weight limit for baggage, e.g., 'Base fare: KLOWBXEP', '10kg', '20kg'\"\n",
    "      }},\n",
    "      \"status\": \"Flight status, which can be 'VALIDO PARA VIAJAR', 'ENTITLED TO BOARDING', 'CANCELADO', etc.\"\n",
    "    }}\n",
    "  ]\n",
    "}}\n",
    "\n",
    "Respond only with the JSON format, strictly adhering to the structure and ensuring all fields are filled correctly.\n",
    "Don't respond opions or comments.\n",
    "\"\"\".format(data)\n",
    "\n",
    "    ollm = get_ollama_instance('llama3')\n",
    "    response = ollm.invoke(prompt)\n",
    "    return response\n"
   ]
  },
  {
   "cell_type": "code",
   "execution_count": 3,
   "metadata": {},
   "outputs": [
    {
     "data": {
      "text/plain": [
       "'{\\n  \"passenger_name\": \"SILVA/RODRIGO\",\\n  \"ticket_number\": \"0442155218038\",\\n  \"booking_reference\": \"OJLPBI\",\\n  \"flight_info\": [\\n    {\\n      \"flight_number\": \"AR 7709\",\\n      \"departure_city\": \"SAO PAULO GUARULH, BRAZIL\",\\n      \"arrival_city\": \"AEROPARQUE JORGE NEWBERY (AEP)\",\\n      \"departure_date\": \"05/sep/2023\",\\n      \"boarding_time\": \"09:10\",\\n      \"departure_time\": \"12:10\",\\n      \"gate\": \"TERMINAL 2 AEREAS\",\\n      \"class\": \"Cabina/Asiento\",\\n      \"seat\": \"\",\\n      \"baggage_info\": {\\n        \"allowed\": \"1 pieza\",\\n        \"weight\": \"\"\\n      },\\n      \"status\": \"VALIDO PARA VIAJAR\"\\n    },\\n    {\\n      \"flight_number\": \"AR 1258\",\\n      \"departure_city\": \"SAO PAULO GUARULH, BRAZIL\",\\n      \"arrival_city\": \"AEROPARQUE JORGE NEWBERY (AEP)\",\\n      \"departure_date\": \"08/sep/2023\",\\n      \"boarding_time\": \"16:10\",\\n      \"departure_time\": \"18:50\",\\n      \"gate\": \"\",\\n      \"class\": \"Cabina/Asiento\",\\n      \"seat\": \"\",\\n      \"baggage_info\": {\\n        \"allowed\": \"1 pieza\",\\n        \"weight\": \"\"\\n      },\\n      \"status\": \"VALIDO PARA VIAJAR\"\\n    }\\n  ]\\n}'"
      ]
     },
     "execution_count": 3,
     "metadata": {},
     "output_type": "execute_result"
    }
   ],
   "source": [
    "pipeline('./boardingpass_1.pdf')"
   ]
  },
  {
   "cell_type": "markdown",
   "metadata": {},
   "source": [
    "{\n",
    "  \"passenger_name\": \"SILVA/RODRIGO\",\n",
    "  \"ticket_number\": \"0442155218038\",\n",
    "  \"booking_reference\": \"OJLPBI\",\n",
    "  \"flight_info\": [\n",
    "    {\n",
    "      \"flight_number\": \"AR 7709\",\n",
    "      \"departure_city\": \"SAO PAULO GUARULH, BRAZIL\",\n",
    "      \"arrival_city\": \"AEROPARQUE JORGE NEWBERY (AEP)\",\n",
    "      \"departure_date\": \"05/sep/2023\",\n",
    "      \"boarding_time\": \"09:10\",\n",
    "      \"departure_time\": \"12:10\",\n",
    "      \"gate\": \"TERMINAL 2 AEREAS\",\n",
    "      \"class\": \"Cabina/Asiento\",\n",
    "      \"seat\": \"\",\n",
    "      \"baggage_info\": { \"allowed\": \"1 pieza\", \"weight\": \"\" },\n",
    "      \"status\": \"VALIDO PARA VIAJAR\"\n",
    "    },\n",
    "    {\n",
    "      \"flight_number\": \"AR 1258\",\n",
    "      \"departure_city\": \"SAO PAULO GUARULH, BRAZIL\",\n",
    "      \"arrival_city\": \"AEROPARQUE JORGE NEWBERY (AEP)\",\n",
    "      \"departure_date\": \"08/sep/2023\",\n",
    "      \"boarding_time\": \"16:10\",\n",
    "      \"departure_time\": \"18:50\",\n",
    "      \"gate\": \"\",\n",
    "      \"class\": \"Cabina/Asiento\",\n",
    "      \"seat\": \"\",\n",
    "      \"baggage_info\": { \"allowed\": \"1 pieza\", \"weight\": \"\" },\n",
    "      \"status\": \"VALIDO PARA VIAJAR\"\n",
    "    }\n",
    "  ]\n",
    "}\n"
   ]
  },
  {
   "cell_type": "code",
   "execution_count": 4,
   "metadata": {},
   "outputs": [
    {
     "data": {
      "text/plain": [
       "'{\\n  \"passenger_name\": \"SILVA/RODRIGO\",\\n  \"ticket_number\": \"0476623968947\",\\n  \"flight_info\": [\\n    {\\n      \"flight_number\": \"TP675\",\\n      \"departure_city\": \"AMSTERDAM SCHIPH\",\\n      \"arrival_city\": \"LISBON\",\\n      \"departure_date\": \"16 Feb 24\",\\n      \"boarding_time\": \"07:00\",\\n      \"departure_time\": \"06:10\",\\n      \"gate\": \"Check monitors\",\\n      \"class\": \"29E\",\\n      \"seat\": \"A\",\\n      \"baggage_info\": {\\n        \"allowed\": \"\",\\n        \"weight\": \"\"\\n      },\\n      \"status\": \"VALIDO PARA VIAJAR\"\\n    },\\n    {\\n      \"flight_number\": \"TP87\",\\n      \"departure_city\": \"LIS-LISBON AIRPORT (Terminal 1)\",\\n      \"arrival_city\": \"SAO PAULO\",\\n      \"departure_date\": \"16 Feb 24\",\\n      \"boarding_time\": \"23:30\",\\n      \"departure_time\": \"22:30\",\\n      \"gate\": \"\",\\n      \"class\": \"28F B\",\\n      \"seat\": \"\",\\n      \"baggage_info\": {\\n        \"allowed\": \"\",\\n        \"weight\": \"\"\\n      },\\n      \"status\": \"VALIDO PARA VIAJAR\"\\n    }\\n  ]\\n}'"
      ]
     },
     "execution_count": 4,
     "metadata": {},
     "output_type": "execute_result"
    }
   ],
   "source": [
    "pipeline('./boardingpass_2.pdf')"
   ]
  },
  {
   "cell_type": "markdown",
   "metadata": {},
   "source": [
    "{\n",
    "  \"passenger_name\": \"SILVA/RODRIGO\",\n",
    "  \"ticket_number\": \"0476623968947\",\n",
    "  \"flight_info\": [\n",
    "    {\n",
    "      \"flight_number\": \"TP675\",\n",
    "      \"departure_city\": \"AMSTERDAM SCHIPH\",\n",
    "      \"arrival_city\": \"LISBON\",\n",
    "      \"departure_date\": \"16 Feb 24\",\n",
    "      \"boarding_time\": \"07:00\",\n",
    "      \"departure_time\": \"06:10\",\n",
    "      \"gate\": \"Check monitors\",\n",
    "      \"class\": \"29E\",\n",
    "      \"seat\": \"A\",\n",
    "      \"baggage_info\": { \"allowed\": \"\", \"weight\": \"\" },\n",
    "      \"status\": \"VALIDO PARA VIAJAR\"\n",
    "    },\n",
    "    {\n",
    "      \"flight_number\": \"TP87\",\n",
    "      \"departure_city\": \"LIS-LISBON AIRPORT (Terminal 1)\",\n",
    "      \"arrival_city\": \"SAO PAULO\",\n",
    "      \"departure_date\": \"16 Feb 24\",\n",
    "      \"boarding_time\": \"23:30\",\n",
    "      \"departure_time\": \"22:30\",\n",
    "      \"gate\": \"\",\n",
    "      \"class\": \"28F B\",\n",
    "      \"seat\": \"\",\n",
    "      \"baggage_info\": { \"allowed\": \"\", \"weight\": \"\" },\n",
    "      \"status\": \"VALIDO PARA VIAJAR\"\n",
    "    }\n",
    "  ]\n",
    "}\n"
   ]
  },
  {
   "cell_type": "code",
   "execution_count": 5,
   "metadata": {},
   "outputs": [
    {
     "data": {
      "text/plain": [
       "'{\\n  \"passenger_name\": \"SILVA/RODRIGO\",\\n  \"ticket_number\": \"930909836441203\",\\n  \"booking_reference\": \"OB607\",\\n  \"flight_info\": [\\n    {\\n      \"flight_number\": \"OB607\",\\n      \"departure_city\": \"La Paz EI Alto intl Cochabamba J orge Wilsterman\",\\n      \"arrival_city\": \"\",\\n      \"departure_date\": \"20 Jul 2024\",\\n      \"boarding_time\": \"10:35\",\\n      \"departure_time\": \"20 Jul 2024\",\\n      \"gate\": \"R18 Grupo4\",\\n      \"class\": \"Asiento\",\\n      \"seat\": \"3C\",\\n      \"baggage_info\": {\\n        \"allowed\": \"1 piece\",\\n        \"weight\": \"23kg\"\\n      },\\n      \"status\": \"\"\\n    }\\n  ]\\n}'"
      ]
     },
     "execution_count": 5,
     "metadata": {},
     "output_type": "execute_result"
    }
   ],
   "source": [
    "pipeline('./boardingpass_3.pdf')"
   ]
  },
  {
   "cell_type": "markdown",
   "metadata": {},
   "source": [
    "{\n",
    "  \"passenger_name\": \"SILVA/RODRIGO\",\n",
    "  \"ticket_number\": \"930909836441203\",\n",
    "  \"booking_reference\": \"OB607\",\n",
    "  \"flight_info\": [\n",
    "    {\n",
    "      \"flight_number\": \"OB607\",\n",
    "      \"departure_city\": \"La Paz EI Alto intl Cochabamba J orge Wilsterman\",\n",
    "      \"arrival_city\": \"\",\n",
    "      \"departure_date\": \"20 Jul 2024\",\n",
    "      \"boarding_time\": \"10:35\",\n",
    "      \"departure_time\": \"20 Jul 2024\",\n",
    "      \"gate\": \"R18 Grupo4\",\n",
    "      \"class\": \"Asiento\",\n",
    "      \"seat\": \"3C\",\n",
    "      \"baggage_info\": { \"allowed\": \"1 piece\", \"weight\": \"23kg\" },\n",
    "      \"status\": \"\"\n",
    "    }\n",
    "  ]\n",
    "}\n"
   ]
  }
 ],
 "metadata": {
  "kernelspec": {
   "display_name": "python-flask-chat-env",
   "language": "python",
   "name": "python3"
  },
  "language_info": {
   "codemirror_mode": {
    "name": "ipython",
    "version": 3
   },
   "file_extension": ".py",
   "mimetype": "text/x-python",
   "name": "python",
   "nbconvert_exporter": "python",
   "pygments_lexer": "ipython3",
   "version": "3.10.15"
  }
 },
 "nbformat": 4,
 "nbformat_minor": 2
}
